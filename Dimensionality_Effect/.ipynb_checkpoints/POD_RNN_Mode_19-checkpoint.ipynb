{
 "cells": [
  {
   "cell_type": "code",
   "execution_count": 1,
   "metadata": {},
   "outputs": [],
   "source": [
    "model_name = 'Mode_19'\n",
    "mode_num = 19\n",
    "mode_range = 1"
   ]
  },
  {
   "cell_type": "code",
   "execution_count": 2,
   "metadata": {},
   "outputs": [],
   "source": [
    "import numpy as np\n",
    "np.random.seed(10)\n",
    "import tensorflow as tf\n",
    "tf.random.set_seed(10)\n",
    "from sklearn.preprocessing import MinMaxScaler, StandardScaler\n",
    "from tensorflow.keras import layers\n",
    "from tensorflow.keras.callbacks import ReduceLROnPlateau,EarlyStopping\n",
    "import matplotlib.pyplot as plt"
   ]
  },
  {
   "cell_type": "code",
   "execution_count": 3,
   "metadata": {},
   "outputs": [],
   "source": [
    "raw_train = np.load('../Grid_LSTM/POD/train_z500_coeffs.npy').T[:,:20]\n",
    "raw_test = np.load('../Grid_LSTM/POD/train_z500_coeffs.npy').T[:,:20]"
   ]
  },
  {
   "cell_type": "code",
   "execution_count": 4,
   "metadata": {},
   "outputs": [],
   "source": [
    "scaler = MinMaxScaler()\n",
    "train_coeffs = scaler.fit_transform(raw_train)\n",
    "test_coeffs = scaler.transform(raw_test)"
   ]
  },
  {
   "cell_type": "code",
   "execution_count": 5,
   "metadata": {},
   "outputs": [],
   "source": [
    "input_window = 14\n",
    "output_window = 7\n",
    "\n",
    "train_inputs = []\n",
    "train_outputs = []\n",
    "\n",
    "i = 0\n",
    "while i < train_coeffs.shape[0] - input_window - output_window:\n",
    "    train_inputs.append(train_coeffs[i:i+input_window])\n",
    "    train_outputs.append(train_coeffs[i+input_window:i+input_window+output_window])\n",
    "    i = i + 1\n",
    "    \n",
    "train_inputs = np.asarray(train_inputs)\n",
    "train_outputs = np.asarray(train_outputs)[:,:,mode_num:mode_num+mode_range]"
   ]
  },
  {
   "cell_type": "code",
   "execution_count": 6,
   "metadata": {},
   "outputs": [],
   "source": [
    "embed_dim = train_inputs[0].shape[-1]\n",
    "output_dim = train_outputs[0].shape[-1]"
   ]
  },
  {
   "cell_type": "code",
   "execution_count": 7,
   "metadata": {},
   "outputs": [],
   "source": [
    "ff_dim = 50  # Hidden layer size in feed forward network inside transformer\n",
    "dropout_rate = 0.0\n",
    "\n",
    "inputs = layers.Input(shape=(input_window,embed_dim))\n",
    "lstm_layer_1a = layers.Bidirectional(layers.LSTM(ff_dim,activation='relu',return_sequences=True,))\n",
    "lstm_layer_1b = layers.Bidirectional(layers.LSTM(ff_dim,activation='relu'))\n",
    "lstm_layer_2 = layers.RepeatVector(output_window)\n",
    "lstm_layer_3 = layers.Bidirectional(layers.LSTM(ff_dim,return_sequences=True,activation='relu'))\n",
    "layer_out = layers.TimeDistributed(layers.Dense(output_dim))\n",
    "\n",
    "x = lstm_layer_1a(inputs)\n",
    "x = lstm_layer_1b(x)\n",
    "x = lstm_layer_2(x)\n",
    "x = lstm_layer_3(x)\n",
    "outputs = layer_out(x)\n",
    "\n",
    "model = tf.keras.Model(inputs=inputs, outputs=outputs)"
   ]
  },
  {
   "cell_type": "code",
   "execution_count": 8,
   "metadata": {},
   "outputs": [],
   "source": [
    "reduce_lr = ReduceLROnPlateau(monitor='val_loss', factor=0.2,\n",
    "                              patience=5, min_lr=0.0001)\n",
    "early_stop = EarlyStopping(monitor='val_loss',patience=20)\n",
    "\n",
    "model.compile(optimizer=tf.keras.optimizers.Adam(learning_rate=0.0001),loss='mean_squared_error')"
   ]
  },
  {
   "cell_type": "code",
   "execution_count": 9,
   "metadata": {},
   "outputs": [
    {
     "name": "stdout",
     "output_type": "stream",
     "text": [
      "Model: \"model\"\n",
      "_________________________________________________________________\n",
      "Layer (type)                 Output Shape              Param #   \n",
      "=================================================================\n",
      "input_1 (InputLayer)         [(None, 14, 20)]          0         \n",
      "_________________________________________________________________\n",
      "bidirectional (Bidirectional (None, 14, 100)           28400     \n",
      "_________________________________________________________________\n",
      "bidirectional_1 (Bidirection (None, 100)               60400     \n",
      "_________________________________________________________________\n",
      "repeat_vector (RepeatVector) (None, 7, 100)            0         \n",
      "_________________________________________________________________\n",
      "bidirectional_2 (Bidirection (None, 7, 100)            60400     \n",
      "_________________________________________________________________\n",
      "time_distributed (TimeDistri (None, 7, 1)              101       \n",
      "=================================================================\n",
      "Total params: 149,301\n",
      "Trainable params: 149,301\n",
      "Non-trainable params: 0\n",
      "_________________________________________________________________\n"
     ]
    }
   ],
   "source": [
    "model.summary()"
   ]
  },
  {
   "cell_type": "code",
   "execution_count": 10,
   "metadata": {},
   "outputs": [
    {
     "name": "stdout",
     "output_type": "stream",
     "text": [
      "Epoch 1/40\n",
      "79/79 [==============================] - 8s 45ms/step - loss: 0.1343 - val_loss: 0.0127\n",
      "Epoch 2/40\n",
      "79/79 [==============================] - 3s 33ms/step - loss: 0.0128 - val_loss: 0.0114\n",
      "Epoch 3/40\n",
      "79/79 [==============================] - 3s 34ms/step - loss: 0.0120 - val_loss: 0.0112\n",
      "Epoch 4/40\n",
      "79/79 [==============================] - 3s 34ms/step - loss: 0.0117 - val_loss: 0.0111\n",
      "Epoch 5/40\n",
      "79/79 [==============================] - 3s 34ms/step - loss: 0.0115 - val_loss: 0.0109\n",
      "Epoch 6/40\n",
      "79/79 [==============================] - 3s 34ms/step - loss: 0.0112 - val_loss: 0.0106\n",
      "Epoch 7/40\n",
      "79/79 [==============================] - 3s 33ms/step - loss: 0.0109 - val_loss: 0.0104\n",
      "Epoch 8/40\n",
      "79/79 [==============================] - 3s 33ms/step - loss: 0.0108 - val_loss: 0.0103\n",
      "Epoch 9/40\n",
      "79/79 [==============================] - 3s 34ms/step - loss: 0.0108 - val_loss: 0.0103\n",
      "Epoch 10/40\n",
      "79/79 [==============================] - 3s 34ms/step - loss: 0.0105 - val_loss: 0.0104\n",
      "Epoch 11/40\n",
      "79/79 [==============================] - 3s 34ms/step - loss: 0.0105 - val_loss: 0.0103\n",
      "Epoch 12/40\n",
      "79/79 [==============================] - 3s 35ms/step - loss: 0.0105 - val_loss: 0.0103\n",
      "Epoch 13/40\n",
      "79/79 [==============================] - 3s 35ms/step - loss: 0.0106 - val_loss: 0.0103\n",
      "Epoch 14/40\n",
      "79/79 [==============================] - 3s 34ms/step - loss: 0.0104 - val_loss: 0.0103\n",
      "Epoch 15/40\n",
      "79/79 [==============================] - 3s 33ms/step - loss: 0.0104 - val_loss: 0.0103\n",
      "Epoch 16/40\n",
      "79/79 [==============================] - 3s 33ms/step - loss: 0.0105 - val_loss: 0.0103\n",
      "Epoch 17/40\n",
      "79/79 [==============================] - 3s 34ms/step - loss: 0.0103 - val_loss: 0.0102\n",
      "Epoch 18/40\n",
      "79/79 [==============================] - 3s 34ms/step - loss: 0.0105 - val_loss: 0.0102\n",
      "Epoch 19/40\n",
      "79/79 [==============================] - 3s 34ms/step - loss: 0.0104 - val_loss: 0.0102\n",
      "Epoch 20/40\n",
      "79/79 [==============================] - 3s 33ms/step - loss: 0.0103 - val_loss: 0.0102\n",
      "Epoch 21/40\n",
      "79/79 [==============================] - 3s 33ms/step - loss: 0.0104 - val_loss: 0.0103\n",
      "Epoch 22/40\n",
      "79/79 [==============================] - 3s 34ms/step - loss: 0.0104 - val_loss: 0.0102\n",
      "Epoch 23/40\n",
      "79/79 [==============================] - 3s 37ms/step - loss: 0.0103 - val_loss: 0.0104\n",
      "Epoch 24/40\n",
      "79/79 [==============================] - 3s 40ms/step - loss: 0.0105 - val_loss: 0.0102\n",
      "Epoch 25/40\n",
      "79/79 [==============================] - 3s 40ms/step - loss: 0.0103 - val_loss: 0.0102\n",
      "Epoch 26/40\n",
      "79/79 [==============================] - 3s 42ms/step - loss: 0.0101 - val_loss: 0.0104\n",
      "Epoch 27/40\n",
      "79/79 [==============================] - 3s 41ms/step - loss: 0.0103 - val_loss: 0.0101\n",
      "Epoch 28/40\n",
      "79/79 [==============================] - 3s 41ms/step - loss: 0.0103 - val_loss: 0.0105\n",
      "Epoch 29/40\n",
      "79/79 [==============================] - 3s 40ms/step - loss: 0.0103 - val_loss: 0.0102\n",
      "Epoch 30/40\n",
      "79/79 [==============================] - 3s 42ms/step - loss: 0.0103 - val_loss: 0.0101\n",
      "Epoch 31/40\n",
      "79/79 [==============================] - 3s 40ms/step - loss: 0.0101 - val_loss: 0.0101\n",
      "Epoch 32/40\n",
      "79/79 [==============================] - 3s 41ms/step - loss: 0.0102 - val_loss: 0.0101\n",
      "Epoch 33/40\n",
      "79/79 [==============================] - 3s 40ms/step - loss: 0.0101 - val_loss: 0.0101\n",
      "Epoch 34/40\n",
      "79/79 [==============================] - 3s 40ms/step - loss: 0.0100 - val_loss: 0.0101\n",
      "Epoch 35/40\n",
      "79/79 [==============================] - 3s 41ms/step - loss: 0.0102 - val_loss: 0.0101\n",
      "Epoch 36/40\n",
      "79/79 [==============================] - 3s 42ms/step - loss: 0.0101 - val_loss: 0.0101\n",
      "Epoch 37/40\n",
      "79/79 [==============================] - 3s 41ms/step - loss: 0.0102 - val_loss: 0.0101\n",
      "Epoch 38/40\n",
      "79/79 [==============================] - 3s 41ms/step - loss: 0.0099 - val_loss: 0.0101\n",
      "Epoch 39/40\n",
      "79/79 [==============================] - 3s 41ms/step - loss: 0.0100 - val_loss: 0.0101\n",
      "Epoch 40/40\n",
      "79/79 [==============================] - 3s 37ms/step - loss: 0.0100 - val_loss: 0.0101\n"
     ]
    }
   ],
   "source": [
    "history = model.fit(train_inputs,train_outputs,epochs=40,batch_size=128,callbacks=[reduce_lr,early_stop],validation_split=0.2)"
   ]
  },
  {
   "cell_type": "code",
   "execution_count": 11,
   "metadata": {},
   "outputs": [],
   "source": [
    "pred_outputs = model.predict(train_inputs)"
   ]
  },
  {
   "cell_type": "code",
   "execution_count": 12,
   "metadata": {},
   "outputs": [
    {
     "data": {
      "image/png": "[encoded data removed]",
      "text/plain": [
       "<Figure size 432x288 with 1 Axes>"
      ]
     },
     "metadata": {
      "needs_background": "light"
     },
     "output_type": "display_data"
    }
   ],
   "source": [
    "mode_num = 0\n",
    "\n",
    "plt.figure()\n",
    "plt.plot(train_outputs[:,:,mode_num].flatten(),train_outputs[:,:,mode_num].flatten(),label='True')\n",
    "plt.scatter(train_outputs[:,:,mode_num].flatten(),pred_outputs[:,:,mode_num].flatten(),label='Predicted')\n",
    "plt.legend()\n",
    "plt.show()"
   ]
  },
  {
   "cell_type": "code",
   "execution_count": null,
   "metadata": {},
   "outputs": [],
   "source": []
  }
 ],
 "metadata": {
  "kernelspec": {
   "display_name": "Python 3",
   "language": "python",
   "name": "python3"
  },
  "language_info": {
   "codemirror_mode": {
    "name": "ipython",
    "version": 3
   },
   "file_extension": ".py",
   "mimetype": "text/x-python",
   "name": "python",
   "nbconvert_exporter": "python",
   "pygments_lexer": "ipython3",
   "version": "3.6.7"
  }
 },
 "nbformat": 4,
 "nbformat_minor": 4
}
