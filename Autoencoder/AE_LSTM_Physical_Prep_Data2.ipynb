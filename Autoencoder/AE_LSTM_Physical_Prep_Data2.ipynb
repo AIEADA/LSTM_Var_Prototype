{
 "cells": [
  {
   "cell_type": "code",
   "execution_count": 1,
   "metadata": {},
   "outputs": [],
   "source": [
    "import numpy as np\n",
    "np.random.seed(10)\n",
    "import tensorflow as tf\n",
    "tf.random.set_seed(10)\n",
    "from sklearn.preprocessing import MinMaxScaler, StandardScaler\n",
    "from tensorflow.keras import layers\n",
    "from tensorflow.keras.callbacks import ReduceLROnPlateau,EarlyStopping\n",
    "import matplotlib.pyplot as plt"
   ]
  },
  {
   "cell_type": "code",
   "execution_count": 2,
   "metadata": {},
   "outputs": [],
   "source": [
    "from pickle import dump"
   ]
  },
  {
   "cell_type": "code",
   "execution_count": 6,
   "metadata": {},
   "outputs": [],
   "source": [
    "# In physical space use 'raw_train.reshape(-1,121,281)' to visualize original\n",
    "num_snapshots = 12564\n",
    "#directory = '/lcrc/project/AIEADA-2/era5_data/full_data/snapshots/'\n",
    "directory = '/lus/grand/projects/datascience/bethanyl/AIEADA/snapshots/'\n",
    "raw_train_z500 = np.load(directory + 'train_z500_snap.npy')\n",
    "\n",
    "scaler = MinMaxScaler()\n",
    "scaler.fit_transform(raw_train_z500)\n",
    "raw_train = raw_train_z500.reshape(-1,121,281)\n"
   ]
  },
  {
   "cell_type": "code",
   "execution_count": 7,
   "metadata": {},
   "outputs": [
    {
     "name": "stdout",
     "output_type": "stream",
     "text": [
      "(12564, 34001)\n"
     ]
    }
   ],
   "source": [
    "print(raw_train_z500.shape)"
   ]
  },
  {
   "cell_type": "code",
   "execution_count": 8,
   "metadata": {},
   "outputs": [],
   "source": [
    "input_window = 14\n",
    "output_window = 7\n",
    "\n",
    "train_inputs = []\n",
    "train_outputs = []\n",
    "\n",
    "i = 0\n",
    "while i < raw_train.shape[0] - input_window - output_window:\n",
    "    train_inputs.append(raw_train[i:i+input_window])\n",
    "    train_outputs.append(raw_train[i+input_window:i+input_window+output_window])\n",
    "    i = i + 1\n",
    "    \n",
    "del raw_train\n",
    "    \n",
    "train_inputs = np.asarray(train_inputs)\n",
    "train_outputs = np.asarray(train_outputs)"
   ]
  },
  {
   "cell_type": "code",
   "execution_count": 10,
   "metadata": {},
   "outputs": [
    {
     "name": "stdout",
     "output_type": "stream",
     "text": [
      "23.882574408\n",
      "(12543, 14, 121, 281)\n",
      "11.941287204\n",
      "(12543, 7, 121, 281)\n"
     ]
    }
   ],
   "source": [
    "onegb = 1000000000\n",
    "gb_train_inputs = train_inputs.nbytes/onegb\n",
    "gb_train_outputs = train_outputs.nbytes/onegb\n",
    "print(gb_train_inputs)\n",
    "print(train_inputs.shape)\n",
    "print(gb_train_outputs)\n",
    "print(train_outputs.shape)"
   ]
  },
  {
   "cell_type": "markdown",
   "metadata": {},
   "source": [
    "## This is a lot of data to fit into memory, so let's save it to files and later use TensorFlow data pipelines to load it as needed"
   ]
  },
  {
   "cell_type": "code",
   "execution_count": 12,
   "metadata": {},
   "outputs": [],
   "source": [
    "train_dir = directory + \"split_examples/train_data_z500_2d/\"\n",
    "for i in range(train_inputs.shape[0]):\n",
    "    example_input = train_inputs[i,:,:,:]\n",
    "    example_output = train_outputs[i,:,:,:]\n",
    "    example = np.concatenate([example_input, example_output],axis=0)\n",
    "    np.save(train_dir + \"example_%d.npy\" % i, example)"
   ]
  },
  {
   "cell_type": "code",
   "execution_count": 13,
   "metadata": {},
   "outputs": [],
   "source": [
    "dump(scaler, open(directory + '/split_examples/scaler_z500.pkl', 'wb'))"
   ]
  },
  {
   "cell_type": "code",
   "execution_count": null,
   "metadata": {},
   "outputs": [],
   "source": []
  }
 ],
 "metadata": {
  "kernelspec": {
   "display_name": "conda/2022-07-01",
   "language": "python",
   "name": "conda-2022-07-01"
  },
  "language_info": {
   "codemirror_mode": {
    "name": "ipython",
    "version": 3
   },
   "file_extension": ".py",
   "mimetype": "text/x-python",
   "name": "python",
   "nbconvert_exporter": "python",
   "pygments_lexer": "ipython3",
   "version": "3.8.13"
  }
 },
 "nbformat": 4,
 "nbformat_minor": 4
}
