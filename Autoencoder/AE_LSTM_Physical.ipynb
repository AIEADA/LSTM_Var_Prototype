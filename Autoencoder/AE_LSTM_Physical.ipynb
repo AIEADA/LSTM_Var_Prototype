{
 "cells": [
  {
   "cell_type": "code",
   "execution_count": null,
   "metadata": {},
   "outputs": [],
   "source": [
    "import numpy as np\n",
    "np.random.seed(10)\n",
    "import tensorflow as tf\n",
    "tf.random.set_seed(10)\n",
    "from sklearn.preprocessing import MinMaxScaler, StandardScaler\n",
    "from tensorflow.keras import layers\n",
    "from tensorflow.keras.callbacks import ReduceLROnPlateau,EarlyStopping\n",
    "import matplotlib.pyplot as plt"
   ]
  },
  {
   "cell_type": "code",
   "execution_count": null,
   "metadata": {},
   "outputs": [],
   "source": [
    "# In physical space use 'raw_train.reshape(-1,121,281)' to visualize original\n",
    "num_snapshots = 12564\n",
    "raw_train_z500 = np.load('../Raw_Dataset/train_z500_snap.npy').reshape(-1,121,281)[:,::2,::4].reshape(num_snapshots,-1) # Subsample to fit on GPU\n",
    "raw_train_u250 = np.load('../Raw_Dataset/train_u250_snap.npy').reshape(-1,121,281)[:,::2,::4].reshape(num_snapshots,-1)\n",
    "raw_train_v250 = np.load('../Raw_Dataset/train_v250_snap.npy').reshape(-1,121,281)[:,::2,::4].reshape(num_snapshots,-1)\n",
    "raw_train_u850 = np.load('../Raw_Dataset/train_u850_snap.npy').reshape(-1,121,281)[:,::2,::4].reshape(num_snapshots,-1)\n",
    "raw_train_v850 = np.load('../Raw_Dataset/train_v850_snap.npy').reshape(-1,121,281)[:,::2,::4].reshape(num_snapshots,-1)\n",
    "raw_train_t250 = np.load('../Raw_Dataset/train_t250_snap.npy').reshape(-1,121,281)[:,::2,::4].reshape(num_snapshots,-1)\n",
    "raw_train_t850 = np.load('../Raw_Dataset/train_t850_snap.npy').reshape(-1,121,281)[:,::2,::4].reshape(num_snapshots,-1)\n",
    "raw_train_blh = np.load('../Raw_Dataset/train_blh_snap.npy').reshape(-1,121,281)[:,::2,::4].reshape(num_snapshots,-1)\n",
    "raw_train_tcwv = np.load('../Raw_Dataset/train_tcwv_snap.npy').reshape(-1,121,281)[:,::2,::4].reshape(num_snapshots,-1)\n",
    "\n",
    "var_list = [raw_train_z500,\n",
    "            raw_train_u250,raw_train_v250,raw_train_t250,\n",
    "            raw_train_u850,raw_train_v850,raw_train_t850,\n",
    "            raw_train_blh,raw_train_tcwv]\n",
    "\n",
    "scaler_list = []\n",
    "for i in range(len(var_list)):\n",
    "    scaler = MinMaxScaler()\n",
    "    var_list[i] = scaler.fit_transform(var_list[i])\n",
    "    scaler_list.append(scaler)\n",
    "    \n",
    "# Free memory\n",
    "del raw_train_z500,raw_train_u250,raw_train_v250,raw_train_t250,raw_train_u850,raw_train_v850,raw_train_t850,raw_train_blh,raw_train_tcwv"
   ]
  },
  {
   "cell_type": "code",
   "execution_count": null,
   "metadata": {},
   "outputs": [],
   "source": [
    "raw_train = np.concatenate(var_list,axis=-1)"
   ]
  },
  {
   "cell_type": "code",
   "execution_count": null,
   "metadata": {},
   "outputs": [],
   "source": [
    "input_window = 14\n",
    "output_window = 7\n",
    "\n",
    "train_inputs = []\n",
    "train_outputs = []\n",
    "\n",
    "i = 0\n",
    "while i < raw_train.shape[0] - input_window - output_window:\n",
    "    train_inputs.append(raw_train[i:i+input_window])\n",
    "    train_outputs.append(raw_train[i+input_window:i+input_window+output_window])\n",
    "    i = i + 1\n",
    "    \n",
    "del raw_train\n",
    "    \n",
    "train_inputs = np.asarray(train_inputs)\n",
    "train_outputs = np.asarray(train_outputs)"
   ]
  },
  {
   "cell_type": "code",
   "execution_count": null,
   "metadata": {},
   "outputs": [],
   "source": [
    "embed_dim = train_inputs[0].shape[-1]\n",
    "output_dim = train_outputs[0].shape[-1]\n",
    "encode_dim = 180"
   ]
  },
  {
   "cell_type": "code",
   "execution_count": null,
   "metadata": {},
   "outputs": [],
   "source": [
    "num_ae_encoder_layers = 3\n",
    "num_ae_decoder_layers = 3\n",
    "num_lstm_cells_encoder = 2\n",
    "num_lstm_cells_decoder = 2"
   ]
  },
  {
   "cell_type": "code",
   "execution_count": null,
   "metadata": {},
   "outputs": [],
   "source": [
    "ff_dim = 100  # Hidden layer size in feed forward network inside transformer\n",
    "dropout_rate = 0.0\n",
    "\n",
    "inputs = layers.Input(shape=(input_window,embed_dim))\n",
    "ae_encoding_layers = []\n",
    "for _ in range(num_ae_encoder_layers):\n",
    "    ae_encoding_layers.append(layers.TimeDistributed(layers.Dense(encode_dim,activation='elu')))\n",
    "\n",
    "lstm_encoder_cells = []\n",
    "for _ in range(num_lstm_cells_encoder):\n",
    "    lstm_encoder_cells.append(layers.Bidirectional(layers.LSTM(ff_dim,activation='elu',return_sequences=True,)))\n",
    "\n",
    "lstm_encoder_final = layers.Bidirectional(layers.LSTM(ff_dim,activation='elu'))\n",
    "lstm_repeater_layer = layers.RepeatVector(output_window)\n",
    "    \n",
    "lstm_decoder_cells = []\n",
    "for _ in range(num_lstm_cells_decoder):\n",
    "    lstm_decoder_cells.append(layers.LSTM(encode_dim,activation='elu',return_sequences=True,))\n",
    "\n",
    "    \n",
    "ae_decoding_layers = []\n",
    "for _ in range(num_ae_decoder_layers):\n",
    "    ae_decoding_layers.append(layers.TimeDistributed(layers.Dense(embed_dim,activation='elu')))\n",
    "\n",
    "\n",
    "# Encode from physical space\n",
    "print('Input shape:',inputs.get_shape().as_list())\n",
    "\n",
    "x = inputs\n",
    "for i in range(num_ae_encoder_layers):\n",
    "    x = ae_encoding_layers[i](x)\n",
    "encoded = x\n",
    "\n",
    "print('AE Encoded shape:',encoded.get_shape().as_list())\n",
    "\n",
    "x = lstm_encoder_cells[0](encoded)    \n",
    "for i in range(1,num_lstm_cells_encoder):\n",
    "    x = lstm_encoder_cells[i](x)\n",
    "    \n",
    "x = lstm_encoder_final(x)\n",
    "\n",
    "print('LSTM Encoded shape:',x.get_shape().as_list())\n",
    "\n",
    "x = lstm_repeater_layer(x)\n",
    "\n",
    "for i in range(num_lstm_cells_decoder):\n",
    "    x = lstm_decoder_cells[i](x)\n",
    "\n",
    "print('LSTM Decoded shape:',x.get_shape().as_list())\n",
    "    \n",
    "for i in range(num_ae_decoder_layers):\n",
    "    x = ae_decoding_layers[i](x)\n",
    "    \n",
    "outputs = x\n",
    "\n",
    "print('AE+LSTM Output shape:',outputs.get_shape().as_list())\n",
    "    \n",
    "decoded = encoded\n",
    "for i in range(num_ae_decoder_layers):\n",
    "    decoded = ae_decoding_layers[i](decoded)\n",
    "    \n",
    "print('AE Output shape:',decoded.get_shape().as_list())\n",
    "\n",
    "model = tf.keras.Model(inputs=inputs, outputs=[outputs,decoded])"
   ]
  },
  {
   "cell_type": "code",
   "execution_count": null,
   "metadata": {},
   "outputs": [],
   "source": [
    "reduce_lr = ReduceLROnPlateau(monitor='val_loss', factor=0.2,\n",
    "                              patience=5, min_lr=0.0001)\n",
    "early_stop = EarlyStopping(monitor='val_loss',patience=20)\n",
    "\n",
    "model.compile(optimizer=tf.keras.optimizers.Adam(learning_rate=0.0001),loss='mean_squared_error',loss_weights=[1,1])"
   ]
  },
  {
   "cell_type": "code",
   "execution_count": null,
   "metadata": {},
   "outputs": [],
   "source": [
    "model.summary()"
   ]
  },
  {
   "cell_type": "code",
   "execution_count": null,
   "metadata": {},
   "outputs": [],
   "source": [
    "history = model.fit(train_inputs,[train_outputs,train_inputs],epochs=250,batch_size=2,callbacks=[reduce_lr,early_stop],validation_split=0.2)"
   ]
  },
  {
   "cell_type": "code",
   "execution_count": null,
   "metadata": {},
   "outputs": [],
   "source": []
  }
 ],
 "metadata": {
  "kernelspec": {
   "display_name": "Python 3",
   "language": "python",
   "name": "python3"
  },
  "language_info": {
   "codemirror_mode": {
    "name": "ipython",
    "version": 3
   },
   "file_extension": ".py",
   "mimetype": "text/x-python",
   "name": "python",
   "nbconvert_exporter": "python",
   "pygments_lexer": "ipython3",
   "version": "3.6.10"
  }
 },
 "nbformat": 4,
 "nbformat_minor": 4
}
