{
 "cells": [
  {
   "cell_type": "code",
   "execution_count": 4,
   "metadata": {},
   "outputs": [
    {
     "name": "stderr",
     "output_type": "stream",
     "text": [
      "2022-10-15 15:45:40.931215: I tensorflow/core/platform/cpu_feature_guard.cc:193] This TensorFlow binary is optimized with oneAPI Deep Neural Network Library (oneDNN) to use the following CPU instructions in performance-critical operations:  AVX2 FMA\n",
      "To enable them in other operations, rebuild TensorFlow with the appropriate compiler flags.\n",
      "2022-10-15 15:45:43.010125: E tensorflow/stream_executor/cuda/cuda_blas.cc:2981] Unable to register cuBLAS factory: Attempting to register factory for plugin cuBLAS when one has already been registered\n",
      "2022-10-15 15:45:49.927948: W tensorflow/stream_executor/platform/default/dso_loader.cc:64] Could not load dynamic library 'libnvinfer.so.7'; dlerror: libnvinfer.so.7: cannot open shared object file: No such file or directory\n",
      "2022-10-15 15:45:49.928042: W tensorflow/stream_executor/platform/default/dso_loader.cc:64] Could not load dynamic library 'libnvinfer_plugin.so.7'; dlerror: libnvinfer_plugin.so.7: cannot open shared object file: No such file or directory\n",
      "2022-10-15 15:45:49.928047: W tensorflow/compiler/tf2tensorrt/utils/py_utils.cc:38] TF-TRT Warning: Cannot dlopen some TensorRT libraries. If you would like to use Nvidia GPU with TensorRT, please make sure the missing libraries mentioned above are installed properly.\n"
     ]
    }
   ],
   "source": [
    "import numpy as np\n",
    "np.random.seed(10)\n",
    "import tensorflow as tf\n",
    "tf.random.set_seed(10)\n",
    "from sklearn.preprocessing import MinMaxScaler, StandardScaler\n",
    "from tensorflow.keras import layers\n",
    "from tensorflow.keras.callbacks import ReduceLROnPlateau,EarlyStopping\n",
    "import matplotlib.pyplot as plt"
   ]
  },
  {
   "cell_type": "code",
   "execution_count": 5,
   "metadata": {},
   "outputs": [],
   "source": [
    "import glob"
   ]
  },
  {
   "cell_type": "code",
   "execution_count": 6,
   "metadata": {},
   "outputs": [],
   "source": [
    "# In physical space use 'raw_train.reshape(-1,121,281)' to visualize original\n",
    "num_snapshots = 12564\n",
    "directory = '/lcrc/project/AIEADA-2/era5_data/full_data/snapshots/'\n",
    "\n",
    "#var_list = [raw_train_z500,\n",
    "#            raw_train_u250,raw_train_v250,raw_train_t250,\n",
    "#            raw_train_u850,raw_train_v850,raw_train_t850,\n",
    "#            raw_train_blh,raw_train_tcwv]\n",
    "input_window = 14\n",
    "output_window = 7"
   ]
  },
  {
   "cell_type": "code",
   "execution_count": 7,
   "metadata": {},
   "outputs": [],
   "source": [
    "def load_file_npy(file_path):\n",
    "    file_path_string = bytes.decode(file_path.numpy())\n",
    "    data = np.load(file_path_string)\n",
    "    return data"
   ]
  },
  {
   "cell_type": "code",
   "execution_count": 8,
   "metadata": {},
   "outputs": [],
   "source": [
    "def read_npy_file(file_path):\n",
    "    file_path_string = bytes.decode(file_path.numpy())\n",
    "    data = np.load(file_path_string)\n",
    "    return data.astype(np.float32)"
   ]
  },
  {
   "cell_type": "code",
   "execution_count": 33,
   "metadata": {},
   "outputs": [],
   "source": [
    "def parse_function(file_path):\n",
    "    #example = tf.py_function(load_file_npy, inp=file_path, Tout=tf.float32)\n",
    "    example = tf.py_function(read_npy_file, [file_path], tf.float32)\n",
    "    #example = tf.py_function(np.load, file_path, tf.string)\n",
    "    #tf.print(file_path)\n",
    "    #example = tf.io.read_file(file_path)\n",
    "    #example = tf.io.decode_raw(example, tf.float32)\n",
    "    print(example)\n",
    "    input_window = 14\n",
    "    input_data = example[:input_window,:]\n",
    "    output_data = example[input_window:,:]\n",
    "    #return input_data, {'pred':output_data, 'recon':input_data}\n",
    "    return input_data, (output_data, input_data)"
   ]
  },
  {
   "cell_type": "code",
   "execution_count": 34,
   "metadata": {},
   "outputs": [],
   "source": [
    "def build_dataset(batch_size):\n",
    "    dataset_dir = directory + 'split_examples/train_data/'\n",
    "    filelist = glob.glob(dataset_dir + '*.npy')\n",
    "    train_dataset = tf.data.Dataset.from_tensor_slices(filelist)\n",
    "    shuffle_buffer = 6000\n",
    "    train_dataset = train_dataset.shuffle(shuffle_buffer,reshuffle_each_iteration=True)\n",
    "    train_dataset = train_dataset.map(parse_function, num_parallel_calls=tf.data.experimental.AUTOTUNE)\n",
    "    #train_dataset = train_dataset.map(\n",
    "    #    lambda item: tuple(tf.py_function(read_npy_file, [item], [tf.float32,])))\n",
    "    train_dataset = train_dataset.batch(batch_size)\n",
    "    train_dataset = train_dataset.prefetch(buffer_size=tf.data.experimental.AUTOTUNE)\n",
    "    \n",
    "    return train_dataset"
   ]
  },
  {
   "cell_type": "code",
   "execution_count": 35,
   "metadata": {},
   "outputs": [],
   "source": [
    "example = np.load(directory + 'split_examples/train_data/example151.npy')"
   ]
  },
  {
   "cell_type": "code",
   "execution_count": 36,
   "metadata": {},
   "outputs": [
    {
     "name": "stdout",
     "output_type": "stream",
     "text": [
      "(21, 38979)\n",
      "float32\n"
     ]
    }
   ],
   "source": [
    "print(example.shape)\n",
    "print(example.dtype)"
   ]
  },
  {
   "cell_type": "code",
   "execution_count": 37,
   "metadata": {},
   "outputs": [
    {
     "name": "stdout",
     "output_type": "stream",
     "text": [
      "Tensor(\"EagerPyFunc:0\", dtype=float32, device=/job:localhost/replica:0/task:0)\n"
     ]
    }
   ],
   "source": [
    "batch_size = 512\n",
    "train_dataset = build_dataset(batch_size)"
   ]
  },
  {
   "cell_type": "code",
   "execution_count": 38,
   "metadata": {},
   "outputs": [
    {
     "data": {
      "text/plain": [
       "<PrefetchDataset element_spec=(TensorSpec(shape=<unknown>, dtype=tf.float32, name=None), (TensorSpec(shape=<unknown>, dtype=tf.float32, name=None), TensorSpec(shape=<unknown>, dtype=tf.float32, name=None)))>"
      ]
     },
     "execution_count": 38,
     "metadata": {},
     "output_type": "execute_result"
    }
   ],
   "source": [
    "train_dataset"
   ]
  },
  {
   "cell_type": "code",
   "execution_count": 39,
   "metadata": {},
   "outputs": [],
   "source": [
    "embed_dim = example.shape[-1]\n",
    "output_dim = embed_dim\n",
    "encode_dim = 180"
   ]
  },
  {
   "cell_type": "code",
   "execution_count": 40,
   "metadata": {},
   "outputs": [],
   "source": [
    "num_ae_encoder_layers = 3\n",
    "num_ae_decoder_layers = 3\n",
    "num_lstm_cells_encoder = 2\n",
    "num_lstm_cells_decoder = 2"
   ]
  },
  {
   "cell_type": "code",
   "execution_count": 41,
   "metadata": {},
   "outputs": [
    {
     "name": "stdout",
     "output_type": "stream",
     "text": [
      "Input shape: [None, 14, 38979]\n",
      "AE Encoded shape: [None, 14, 180]\n",
      "LSTM Encoded shape: [None, 200]\n",
      "LSTM Decoded shape: [None, 7, 180]\n",
      "AE+LSTM Output shape: [None, 7, 38979]\n",
      "AE Output shape: [None, 14, 38979]\n"
     ]
    }
   ],
   "source": [
    "ff_dim = 100  # Hidden layer size in feed forward network inside transformer\n",
    "dropout_rate = 0.0\n",
    "\n",
    "inputs = layers.Input(shape=(input_window,embed_dim))\n",
    "ae_encoding_layers = []\n",
    "for _ in range(num_ae_encoder_layers):\n",
    "    ae_encoding_layers.append(layers.TimeDistributed(layers.Dense(encode_dim,activation='elu')))\n",
    "\n",
    "lstm_encoder_cells = []\n",
    "for _ in range(num_lstm_cells_encoder):\n",
    "    lstm_encoder_cells.append(layers.Bidirectional(layers.LSTM(ff_dim,activation='elu',return_sequences=True,)))\n",
    "\n",
    "lstm_encoder_final = layers.Bidirectional(layers.LSTM(ff_dim,activation='elu'))\n",
    "lstm_repeater_layer = layers.RepeatVector(output_window)\n",
    "    \n",
    "lstm_decoder_cells = []\n",
    "for _ in range(num_lstm_cells_decoder):\n",
    "    lstm_decoder_cells.append(layers.LSTM(encode_dim,activation='elu',return_sequences=True,))\n",
    "\n",
    "    \n",
    "ae_decoding_layers = []\n",
    "for _ in range(num_ae_decoder_layers):\n",
    "    ae_decoding_layers.append(layers.TimeDistributed(layers.Dense(embed_dim,activation='elu')))\n",
    "\n",
    "\n",
    "# Encode from physical space\n",
    "print('Input shape:',inputs.get_shape().as_list())\n",
    "\n",
    "x = inputs\n",
    "for i in range(num_ae_encoder_layers):\n",
    "    x = ae_encoding_layers[i](x)\n",
    "encoded = x\n",
    "\n",
    "print('AE Encoded shape:',encoded.get_shape().as_list())\n",
    "\n",
    "x = lstm_encoder_cells[0](encoded)    \n",
    "for i in range(1,num_lstm_cells_encoder):\n",
    "    x = lstm_encoder_cells[i](x)\n",
    "    \n",
    "x = lstm_encoder_final(x)\n",
    "\n",
    "print('LSTM Encoded shape:',x.get_shape().as_list())\n",
    "\n",
    "x = lstm_repeater_layer(x)\n",
    "\n",
    "for i in range(num_lstm_cells_decoder):\n",
    "    x = lstm_decoder_cells[i](x)\n",
    "\n",
    "print('LSTM Decoded shape:',x.get_shape().as_list())\n",
    "    \n",
    "for i in range(num_ae_decoder_layers):\n",
    "    x = ae_decoding_layers[i](x)\n",
    "    \n",
    "outputs = x\n",
    "\n",
    "print('AE+LSTM Output shape:',outputs.get_shape().as_list())\n",
    "    \n",
    "decoded = encoded\n",
    "for i in range(num_ae_decoder_layers):\n",
    "    decoded = ae_decoding_layers[i](decoded)\n",
    "    \n",
    "print('AE Output shape:',decoded.get_shape().as_list())\n",
    "\n",
    "model = tf.keras.Model(inputs=inputs, outputs=[outputs,decoded])"
   ]
  },
  {
   "cell_type": "code",
   "execution_count": 42,
   "metadata": {},
   "outputs": [],
   "source": [
    "reduce_lr = ReduceLROnPlateau(monitor='val_loss', factor=0.2,\n",
    "                              patience=5, min_lr=0.0001)\n",
    "early_stop = EarlyStopping(monitor='val_loss',patience=20)\n",
    "\n",
    "model.compile(optimizer=tf.keras.optimizers.Adam(learning_rate=0.0001),loss='mean_squared_error',loss_weights=[1,1])"
   ]
  },
  {
   "cell_type": "code",
   "execution_count": 43,
   "metadata": {},
   "outputs": [
    {
     "name": "stdout",
     "output_type": "stream",
     "text": [
      "Model: \"model_2\"\n",
      "__________________________________________________________________________________________________\n",
      " Layer (type)                   Output Shape         Param #     Connected to                     \n",
      "==================================================================================================\n",
      " input_3 (InputLayer)           [(None, 14, 38979)]  0           []                               \n",
      "                                                                                                  \n",
      " time_distributed_12 (TimeDistr  (None, 14, 180)     7016400     ['input_3[0][0]']                \n",
      " ibuted)                                                                                          \n",
      "                                                                                                  \n",
      " time_distributed_13 (TimeDistr  (None, 14, 180)     32580       ['time_distributed_12[0][0]']    \n",
      " ibuted)                                                                                          \n",
      "                                                                                                  \n",
      " time_distributed_14 (TimeDistr  (None, 14, 180)     32580       ['time_distributed_13[0][0]']    \n",
      " ibuted)                                                                                          \n",
      "                                                                                                  \n",
      " bidirectional_6 (Bidirectional  (None, 14, 200)     224800      ['time_distributed_14[0][0]']    \n",
      " )                                                                                                \n",
      "                                                                                                  \n",
      " bidirectional_7 (Bidirectional  (None, 14, 200)     240800      ['bidirectional_6[0][0]']        \n",
      " )                                                                                                \n",
      "                                                                                                  \n",
      " bidirectional_8 (Bidirectional  (None, 200)         240800      ['bidirectional_7[0][0]']        \n",
      " )                                                                                                \n",
      "                                                                                                  \n",
      " repeat_vector_2 (RepeatVector)  (None, 7, 200)      0           ['bidirectional_8[0][0]']        \n",
      "                                                                                                  \n",
      " lstm_13 (LSTM)                 (None, 7, 180)       274320      ['repeat_vector_2[0][0]']        \n",
      "                                                                                                  \n",
      " lstm_14 (LSTM)                 (None, 7, 180)       259920      ['lstm_13[0][0]']                \n",
      "                                                                                                  \n",
      " time_distributed_15 (TimeDistr  multiple            7055199     ['lstm_14[0][0]',                \n",
      " ibuted)                                                          'time_distributed_14[0][0]']    \n",
      "                                                                                                  \n",
      " time_distributed_16 (TimeDistr  multiple            1519401420  ['time_distributed_15[0][0]',    \n",
      " ibuted)                                                          'time_distributed_15[1][0]']    \n",
      "                                                                                                  \n",
      " time_distributed_17 (TimeDistr  multiple            1519401420  ['time_distributed_16[0][0]',    \n",
      " ibuted)                                                          'time_distributed_16[1][0]']    \n",
      "                                                                                                  \n",
      "==================================================================================================\n",
      "Total params: 3,054,180,239\n",
      "Trainable params: 3,054,180,239\n",
      "Non-trainable params: 0\n",
      "__________________________________________________________________________________________________\n"
     ]
    }
   ],
   "source": [
    "model.summary()"
   ]
  },
  {
   "cell_type": "code",
   "execution_count": null,
   "metadata": {},
   "outputs": [
    {
     "name": "stdout",
     "output_type": "stream",
     "text": [
      "Epoch 1/250\n",
      " 4/25 [===>..........................] - ETA: 1:07:59 - loss: 0.4723 - time_distributed_17_loss: 0.2644 - time_distributed_17_1_loss: 0.2078"
     ]
    }
   ],
   "source": [
    "history = model.fit(train_dataset,epochs=250,batch_size=2,callbacks=[reduce_lr,early_stop])"
   ]
  },
  {
   "cell_type": "code",
   "execution_count": null,
   "metadata": {},
   "outputs": [],
   "source": []
  }
 ],
 "metadata": {
  "kernelspec": {
   "display_name": "swing_env",
   "language": "python",
   "name": "swing_env"
  },
  "language_info": {
   "codemirror_mode": {
    "name": "ipython",
    "version": 3
   },
   "file_extension": ".py",
   "mimetype": "text/x-python",
   "name": "python",
   "nbconvert_exporter": "python",
   "pygments_lexer": "ipython3",
   "version": "3.10.4"
  }
 },
 "nbformat": 4,
 "nbformat_minor": 4
}
