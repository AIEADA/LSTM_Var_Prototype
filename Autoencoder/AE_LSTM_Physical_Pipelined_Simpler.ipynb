{
 "cells": [
  {
   "cell_type": "code",
   "execution_count": 1,
   "metadata": {},
   "outputs": [],
   "source": [
    "import numpy as np\n",
    "np.random.seed(10)\n",
    "import tensorflow as tf\n",
    "tf.random.set_seed(10)\n",
    "from sklearn.preprocessing import MinMaxScaler, StandardScaler\n",
    "from tensorflow.keras import layers\n",
    "from tensorflow.keras.callbacks import ReduceLROnPlateau,EarlyStopping\n",
    "import matplotlib.pyplot as plt"
   ]
  },
  {
   "cell_type": "code",
   "execution_count": 2,
   "metadata": {},
   "outputs": [],
   "source": [
    "import glob"
   ]
  },
  {
   "cell_type": "code",
   "execution_count": 3,
   "metadata": {},
   "outputs": [],
   "source": [
    "# In physical space use 'raw_train.reshape(-1,121,281)' to visualize original\n",
    "num_snapshots = 12564\n",
    "#directory = '/lcrc/project/AIEADA-2/era5_data/full_data/snapshots/'\n",
    "directory = '/lus/grand/projects/datascience/bethanyl/AIEADA/snapshots/'\n",
    "\n",
    "#var_list = [raw_train_z500,\n",
    "#            raw_train_u250,raw_train_v250,raw_train_t250,\n",
    "#            raw_train_u850,raw_train_v850,raw_train_t850,\n",
    "#            raw_train_blh,raw_train_tcwv]\n",
    "input_window = 14\n",
    "output_window = 7"
   ]
  },
  {
   "cell_type": "code",
   "execution_count": 4,
   "metadata": {},
   "outputs": [],
   "source": [
    "def load_file_npy(file_path):\n",
    "    file_path_string = bytes.decode(file_path.numpy())\n",
    "    data = np.load(file_path_string)\n",
    "    return data"
   ]
  },
  {
   "cell_type": "code",
   "execution_count": 5,
   "metadata": {},
   "outputs": [],
   "source": [
    "def read_npy_file(file_path):\n",
    "    file_path_string = bytes.decode(file_path.numpy())\n",
    "    data = np.load(file_path_string)\n",
    "    return data.astype(np.float32)"
   ]
  },
  {
   "cell_type": "code",
   "execution_count": 6,
   "metadata": {},
   "outputs": [],
   "source": [
    "def parse_function(file_path):\n",
    "    #example = tf.py_function(load_file_npy, inp=file_path, Tout=tf.float32)\n",
    "    example = tf.py_function(read_npy_file, [file_path], tf.float32)\n",
    "    #example = tf.py_function(np.load, file_path, tf.string)\n",
    "    #tf.print(file_path)\n",
    "    #example = tf.io.read_file(file_path)\n",
    "    #example = tf.io.decode_raw(example, tf.float32)\n",
    "    print(example)\n",
    "    input_window = 14\n",
    "    input_data = example[:input_window,:]\n",
    "    output_data = example[input_window:,:]\n",
    "    #return input_data, {'pred':output_data, 'recon':input_data}\n",
    "    return input_data, (output_data, input_data)"
   ]
  },
  {
   "cell_type": "code",
   "execution_count": 7,
   "metadata": {},
   "outputs": [],
   "source": [
    "def build_dataset(batch_size):\n",
    "    dataset_dir = directory + 'split_examples/train_data/'\n",
    "    filelist = glob.glob(dataset_dir + '*.npy')\n",
    "    train_dataset = tf.data.Dataset.from_tensor_slices(filelist)\n",
    "    shuffle_buffer = 6000\n",
    "    train_dataset = train_dataset.shuffle(shuffle_buffer,reshuffle_each_iteration=True)\n",
    "    train_dataset = train_dataset.map(parse_function, num_parallel_calls=tf.data.experimental.AUTOTUNE)\n",
    "    #train_dataset = train_dataset.map(\n",
    "    #    lambda item: tuple(tf.py_function(read_npy_file, [item], [tf.float32,])))\n",
    "    train_dataset = train_dataset.batch(batch_size)\n",
    "    train_dataset = train_dataset.prefetch(buffer_size=tf.data.experimental.AUTOTUNE)\n",
    "    \n",
    "    return train_dataset"
   ]
  },
  {
   "cell_type": "code",
   "execution_count": 8,
   "metadata": {},
   "outputs": [],
   "source": [
    "example = np.load(directory + 'split_examples/train_data/example151.npy')"
   ]
  },
  {
   "cell_type": "code",
   "execution_count": 9,
   "metadata": {},
   "outputs": [
    {
     "name": "stdout",
     "output_type": "stream",
     "text": [
      "(21, 38979)\n",
      "float32\n"
     ]
    }
   ],
   "source": [
    "print(example.shape)\n",
    "print(example.dtype)"
   ]
  },
  {
   "cell_type": "code",
   "execution_count": 10,
   "metadata": {},
   "outputs": [
    {
     "name": "stdout",
     "output_type": "stream",
     "text": [
      "Tensor(\"EagerPyFunc:0\", dtype=float32, device=/job:localhost/replica:0/task:0)\n"
     ]
    }
   ],
   "source": [
    "batch_size = 512\n",
    "train_dataset = build_dataset(batch_size)"
   ]
  },
  {
   "cell_type": "code",
   "execution_count": 11,
   "metadata": {},
   "outputs": [
    {
     "data": {
      "text/plain": [
       "<PrefetchDataset element_spec=(TensorSpec(shape=<unknown>, dtype=tf.float32, name=None), (TensorSpec(shape=<unknown>, dtype=tf.float32, name=None), TensorSpec(shape=<unknown>, dtype=tf.float32, name=None)))>"
      ]
     },
     "execution_count": 11,
     "metadata": {},
     "output_type": "execute_result"
    }
   ],
   "source": [
    "train_dataset"
   ]
  },
  {
   "cell_type": "code",
   "execution_count": 12,
   "metadata": {},
   "outputs": [],
   "source": [
    "embed_dim = example.shape[-1]\n",
    "output_dim = embed_dim\n",
    "encode_dim = 180"
   ]
  },
  {
   "cell_type": "code",
   "execution_count": 16,
   "metadata": {},
   "outputs": [],
   "source": [
    "num_ae_encoder_layers = 1\n",
    "num_ae_decoder_layers = 3\n",
    "num_lstm_decoder_layers = 3"
   ]
  },
  {
   "cell_type": "code",
   "execution_count": 17,
   "metadata": {},
   "outputs": [
    {
     "name": "stdout",
     "output_type": "stream",
     "text": [
      "WARNING:tensorflow:Layer lstm_6 will not use cuDNN kernels since it doesn't meet the criteria. It will use a generic GPU kernel as fallback when running on GPU.\n",
      "WARNING:tensorflow:Layer lstm_7 will not use cuDNN kernels since it doesn't meet the criteria. It will use a generic GPU kernel as fallback when running on GPU.\n",
      "WARNING:tensorflow:Layer lstm_8 will not use cuDNN kernels since it doesn't meet the criteria. It will use a generic GPU kernel as fallback when running on GPU.\n",
      "Input shape: [None, 14, 38979]\n",
      "AE Encoded shape: [None, 180]\n",
      "LSTM Decoded shape: [None, 7, 38979]\n",
      "AE Output shape: [None, 14, 38979]\n"
     ]
    }
   ],
   "source": [
    "ff_dim = 100  # Hidden layer size in feed forward network inside transformer\n",
    "dropout_rate = 0.0\n",
    "\n",
    "inputs = layers.Input(shape=(input_window,embed_dim))\n",
    "ae_encoding_layers = []\n",
    "ae_encoding_layers.append(layers.LSTM(encode_dim,activation='elu'))\n",
    "    \n",
    "# decoder for reconstruction\n",
    "ae_decoding_layers = []\n",
    "ae_decoding_layers.append(layers.RepeatVector(input_window))\n",
    "ae_decoding_layers.append(layers.LSTM(100,activation='elu', return_sequences=True))\n",
    "ae_decoding_layers.append(layers.TimeDistributed(layers.Dense(embed_dim)))\n",
    "\n",
    "# decoder for prediction    \n",
    "lstm_decoding_layers = []\n",
    "lstm_decoding_layers.append(layers.RepeatVector(output_window))\n",
    "lstm_decoding_layers.append(layers.LSTM(100,activation='elu', return_sequences=True))\n",
    "lstm_decoding_layers.append(layers.TimeDistributed(layers.Dense(embed_dim)))\n",
    "\n",
    "\n",
    "# Encode from physical space\n",
    "print('Input shape:',inputs.get_shape().as_list())\n",
    "\n",
    "x = inputs\n",
    "for i in range(num_ae_encoder_layers):\n",
    "    x = ae_encoding_layers[i](x)\n",
    "encoded = x\n",
    "\n",
    "print('AE Encoded shape:',encoded.get_shape().as_list())\n",
    "\n",
    "preds = encoded\n",
    "for i in range(num_lstm_decoder_layers):\n",
    "    preds = lstm_decoding_layers[i](preds)\n",
    "\n",
    "print('LSTM Decoded shape:',preds.get_shape().as_list())\n",
    "    \n",
    "recon = encoded\n",
    "for i in range(num_ae_decoder_layers):\n",
    "    recon = ae_decoding_layers[i](recon)\n",
    "    \n",
    "print('AE Output shape:',recon.get_shape().as_list())\n",
    "\n",
    "model = tf.keras.Model(inputs=inputs, outputs=[preds,recon])"
   ]
  },
  {
   "cell_type": "code",
   "execution_count": 18,
   "metadata": {},
   "outputs": [],
   "source": [
    "reduce_lr = ReduceLROnPlateau(monitor='val_loss', factor=0.2,\n",
    "                              patience=5, min_lr=0.0001)\n",
    "early_stop = EarlyStopping(monitor='val_loss',patience=20)\n",
    "\n",
    "model.compile(optimizer=tf.keras.optimizers.Adam(learning_rate=0.0001),loss='mean_squared_error',loss_weights=[1,1])"
   ]
  },
  {
   "cell_type": "code",
   "execution_count": 19,
   "metadata": {},
   "outputs": [
    {
     "name": "stdout",
     "output_type": "stream",
     "text": [
      "Model: \"model\"\n",
      "__________________________________________________________________________________________________\n",
      " Layer (type)                   Output Shape         Param #     Connected to                     \n",
      "==================================================================================================\n",
      " input_3 (InputLayer)           [(None, 14, 38979)]  0           []                               \n",
      "                                                                                                  \n",
      " lstm_6 (LSTM)                  (None, 180)          28195200    ['input_3[0][0]']                \n",
      "                                                                                                  \n",
      " repeat_vector_5 (RepeatVector)  (None, 7, 180)      0           ['lstm_6[0][0]']                 \n",
      "                                                                                                  \n",
      " repeat_vector_4 (RepeatVector)  (None, 14, 180)     0           ['lstm_6[0][0]']                 \n",
      "                                                                                                  \n",
      " lstm_8 (LSTM)                  (None, 7, 100)       112400      ['repeat_vector_5[0][0]']        \n",
      "                                                                                                  \n",
      " lstm_7 (LSTM)                  (None, 14, 100)      112400      ['repeat_vector_4[0][0]']        \n",
      "                                                                                                  \n",
      " time_distributed_4 (TimeDistri  (None, 7, 38979)    3936879     ['lstm_8[0][0]']                 \n",
      " buted)                                                                                           \n",
      "                                                                                                  \n",
      " time_distributed_3 (TimeDistri  (None, 14, 38979)   3936879     ['lstm_7[0][0]']                 \n",
      " buted)                                                                                           \n",
      "                                                                                                  \n",
      "==================================================================================================\n",
      "Total params: 36,293,758\n",
      "Trainable params: 36,293,758\n",
      "Non-trainable params: 0\n",
      "__________________________________________________________________________________________________\n"
     ]
    }
   ],
   "source": [
    "model.summary()"
   ]
  },
  {
   "cell_type": "code",
   "execution_count": null,
   "metadata": {},
   "outputs": [
    {
     "name": "stdout",
     "output_type": "stream",
     "text": [
      "Epoch 1/250\n"
     ]
    },
    {
     "name": "stderr",
     "output_type": "stream",
     "text": [
      "2022-10-15 16:49:05.613407: W tensorflow/core/common_runtime/forward_type_inference.cc:231] Type inference failed. This indicates an invalid graph that escaped type checking. Error message: INVALID_ARGUMENT: expected compatible input types, but input 1:\n",
      "type_id: TFT_OPTIONAL\n",
      "args {\n",
      "  type_id: TFT_PRODUCT\n",
      "  args {\n",
      "    type_id: TFT_TENSOR\n",
      "    args {\n",
      "      type_id: TFT_BOOL\n",
      "    }\n",
      "  }\n",
      "}\n",
      " is neither a subtype nor a supertype of the combined inputs preceding it:\n",
      "type_id: TFT_OPTIONAL\n",
      "args {\n",
      "  type_id: TFT_PRODUCT\n",
      "  args {\n",
      "    type_id: TFT_TENSOR\n",
      "    args {\n",
      "      type_id: TFT_LEGACY_VARIANT\n",
      "    }\n",
      "  }\n",
      "}\n",
      "\n",
      "\twhile inferring type of node 'mean_squared_error_1/cond/output/_511'\n"
     ]
    },
    {
     "name": "stdout",
     "output_type": "stream",
     "text": [
      "25/25 [==============================] - ETA: 0s - loss: 1.0427 - time_distributed_4_loss: 0.3325 - time_distributed_3_loss: 0.7102WARNING:tensorflow:Learning rate reduction is conditioned on metric `val_loss` which is not available. Available metrics are: loss,time_distributed_4_loss,time_distributed_3_loss,lr\n",
      "WARNING:tensorflow:Early stopping conditioned on metric `val_loss` which is not available. Available metrics are: loss,time_distributed_4_loss,time_distributed_3_loss,lr\n",
      "25/25 [==============================] - 46s 2s/step - loss: 1.0427 - time_distributed_4_loss: 0.3325 - time_distributed_3_loss: 0.7102 - lr: 1.0000e-04\n",
      "Epoch 2/250\n",
      "22/25 [=========================>....] - ETA: 3s - loss: 0.3921 - time_distributed_4_loss: 0.1833 - time_distributed_3_loss: 0.2088"
     ]
    }
   ],
   "source": [
    "history = model.fit(train_dataset,epochs=250,callbacks=[reduce_lr,early_stop])"
   ]
  },
  {
   "cell_type": "code",
   "execution_count": null,
   "metadata": {},
   "outputs": [],
   "source": []
  }
 ],
 "metadata": {
  "kernelspec": {
   "display_name": "conda/2022-07-01",
   "language": "python",
   "name": "conda-2022-07-01"
  },
  "language_info": {
   "codemirror_mode": {
    "name": "ipython",
    "version": 3
   },
   "file_extension": ".py",
   "mimetype": "text/x-python",
   "name": "python",
   "nbconvert_exporter": "python",
   "pygments_lexer": "ipython3",
   "version": "3.8.13"
  }
 },
 "nbformat": 4,
 "nbformat_minor": 4
}
