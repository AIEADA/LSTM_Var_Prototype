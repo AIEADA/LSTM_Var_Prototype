{
 "cells": [
  {
   "cell_type": "code",
   "execution_count": 1,
   "metadata": {},
   "outputs": [
    {
     "name": "stderr",
     "output_type": "stream",
     "text": [
      "2022-10-15 12:15:06.662123: I tensorflow/core/platform/cpu_feature_guard.cc:193] This TensorFlow binary is optimized with oneAPI Deep Neural Network Library (oneDNN) to use the following CPU instructions in performance-critical operations:  AVX2 FMA\n",
      "To enable them in other operations, rebuild TensorFlow with the appropriate compiler flags.\n",
      "2022-10-15 12:15:06.827665: E tensorflow/stream_executor/cuda/cuda_blas.cc:2981] Unable to register cuBLAS factory: Attempting to register factory for plugin cuBLAS when one has already been registered\n",
      "2022-10-15 12:15:13.614723: W tensorflow/stream_executor/platform/default/dso_loader.cc:64] Could not load dynamic library 'libnvinfer.so.7'; dlerror: libnvinfer.so.7: cannot open shared object file: No such file or directory\n",
      "2022-10-15 12:15:13.614801: W tensorflow/stream_executor/platform/default/dso_loader.cc:64] Could not load dynamic library 'libnvinfer_plugin.so.7'; dlerror: libnvinfer_plugin.so.7: cannot open shared object file: No such file or directory\n",
      "2022-10-15 12:15:13.614806: W tensorflow/compiler/tf2tensorrt/utils/py_utils.cc:38] TF-TRT Warning: Cannot dlopen some TensorRT libraries. If you would like to use Nvidia GPU with TensorRT, please make sure the missing libraries mentioned above are installed properly.\n"
     ]
    }
   ],
   "source": [
    "import numpy as np\n",
    "np.random.seed(10)\n",
    "import tensorflow as tf\n",
    "tf.random.set_seed(10)\n",
    "from sklearn.preprocessing import MinMaxScaler, StandardScaler\n",
    "from tensorflow.keras import layers\n",
    "from tensorflow.keras.callbacks import ReduceLROnPlateau,EarlyStopping\n",
    "import matplotlib.pyplot as plt"
   ]
  },
  {
   "cell_type": "code",
   "execution_count": 15,
   "metadata": {},
   "outputs": [],
   "source": [
    "from pickle import dump"
   ]
  },
  {
   "cell_type": "code",
   "execution_count": 2,
   "metadata": {},
   "outputs": [],
   "source": [
    "# In physical space use 'raw_train.reshape(-1,121,281)' to visualize original\n",
    "num_snapshots = 12564\n",
    "directory = '/lcrc/project/AIEADA-2/era5_data/full_data/snapshots/'\n",
    "raw_train_z500 = np.load(directory + 'train_z500_snap.npy').reshape(-1,121,281)[:,::2,::4].reshape(num_snapshots,-1) # Subsample to fit on GPU\n",
    "raw_train_u250 = np.load(directory + 'train_u250_snap.npy').reshape(-1,121,281)[:,::2,::4].reshape(num_snapshots,-1)\n",
    "raw_train_v250 = np.load(directory + 'train_v250_snap.npy').reshape(-1,121,281)[:,::2,::4].reshape(num_snapshots,-1)\n",
    "raw_train_u850 = np.load(directory + 'train_u850_snap.npy').reshape(-1,121,281)[:,::2,::4].reshape(num_snapshots,-1)\n",
    "raw_train_v850 = np.load(directory + 'train_v850_snap.npy').reshape(-1,121,281)[:,::2,::4].reshape(num_snapshots,-1)\n",
    "raw_train_t250 = np.load(directory + 'train_t250_snap.npy').reshape(-1,121,281)[:,::2,::4].reshape(num_snapshots,-1)\n",
    "raw_train_t850 = np.load(directory + 'train_t850_snap.npy').reshape(-1,121,281)[:,::2,::4].reshape(num_snapshots,-1)\n",
    "raw_train_blh = np.load(directory + 'train_blh_snap.npy').reshape(-1,121,281)[:,::2,::4].reshape(num_snapshots,-1)\n",
    "raw_train_tcwv = np.load(directory + 'train_tcwv_snap.npy').reshape(-1,121,281)[:,::2,::4].reshape(num_snapshots,-1)\n",
    "\n",
    "var_list = [raw_train_z500,\n",
    "            raw_train_u250,raw_train_v250,raw_train_t250,\n",
    "            raw_train_u850,raw_train_v850,raw_train_t850,\n",
    "            raw_train_blh,raw_train_tcwv]\n",
    "\n",
    "scaler_list = []\n",
    "for i in range(len(var_list)):\n",
    "    scaler = MinMaxScaler()\n",
    "    var_list[i] = scaler.fit_transform(var_list[i])\n",
    "    scaler_list.append(scaler)\n",
    "    \n",
    "# Free memory\n",
    "del raw_train_z500,raw_train_u250,raw_train_v250,raw_train_t250,raw_train_u850,raw_train_v850,raw_train_t850,raw_train_blh,raw_train_tcwv"
   ]
  },
  {
   "cell_type": "code",
   "execution_count": 3,
   "metadata": {},
   "outputs": [
    {
     "name": "stdout",
     "output_type": "stream",
     "text": [
      "1.958928624\n"
     ]
    }
   ],
   "source": [
    "total_bytes = 0\n",
    "for array in var_list:\n",
    "    total_bytes += array.nbytes\n",
    "onegb = 1000000000\n",
    "print(total_bytes/onegb)"
   ]
  },
  {
   "cell_type": "code",
   "execution_count": 4,
   "metadata": {},
   "outputs": [],
   "source": [
    "raw_train = np.concatenate(var_list,axis=-1)\n",
    "# Free memory\n",
    "del var_list"
   ]
  },
  {
   "cell_type": "code",
   "execution_count": 5,
   "metadata": {},
   "outputs": [
    {
     "name": "stdout",
     "output_type": "stream",
     "text": [
      "(12564, 38979)\n"
     ]
    }
   ],
   "source": [
    "print(raw_train.shape)"
   ]
  },
  {
   "cell_type": "code",
   "execution_count": 6,
   "metadata": {},
   "outputs": [],
   "source": [
    "input_window = 14\n",
    "output_window = 7\n",
    "\n",
    "train_inputs = []\n",
    "train_outputs = []\n",
    "\n",
    "i = 0\n",
    "while i < raw_train.shape[0] - input_window - output_window:\n",
    "    train_inputs.append(raw_train[i:i+input_window])\n",
    "    train_outputs.append(raw_train[i+input_window:i+input_window+output_window])\n",
    "    i = i + 1\n",
    "    \n",
    "del raw_train\n",
    "    \n",
    "train_inputs = np.asarray(train_inputs)\n",
    "train_outputs = np.asarray(train_outputs)"
   ]
  },
  {
   "cell_type": "code",
   "execution_count": 7,
   "metadata": {},
   "outputs": [
    {
     "name": "stdout",
     "output_type": "stream",
     "text": [
      "27.379161432\n",
      "(12543, 14, 38979)\n",
      "13.689580716\n",
      "(12543, 7, 38979)\n"
     ]
    }
   ],
   "source": [
    "gb_train_inputs = train_inputs.nbytes/onegb\n",
    "gb_train_outputs = train_outputs.nbytes/onegb\n",
    "print(gb_train_inputs)\n",
    "print(train_inputs.shape)\n",
    "print(gb_train_outputs)\n",
    "print(train_outputs.shape)"
   ]
  },
  {
   "cell_type": "markdown",
   "metadata": {},
   "source": [
    "## This is a lot of data to fit into memory, so let's save it to files and later use TensorFlow data pipelines to load it as needed"
   ]
  },
  {
   "cell_type": "code",
   "execution_count": 13,
   "metadata": {},
   "outputs": [],
   "source": [
    "train_dir = directory + \"/split_examples/train_data/\"\n",
    "for i in range(train_inputs.shape[0]):\n",
    "    example_input = train_inputs[i,:,:]\n",
    "    example_output = train_outputs[i,:,:]\n",
    "    example = np.concatenate([example_input, example_output],axis=0)\n",
    "    np.save(train_dir + \"example%d.npy\" % i, example)"
   ]
  },
  {
   "cell_type": "code",
   "execution_count": 16,
   "metadata": {},
   "outputs": [],
   "source": [
    "dump(scaler_list, open(directory + '/split_examples/scalers.pkl', 'wb'))"
   ]
  },
  {
   "cell_type": "code",
   "execution_count": null,
   "metadata": {},
   "outputs": [],
   "source": []
  }
 ],
 "metadata": {
  "kernelspec": {
   "display_name": "Python 3 (ipykernel)",
   "language": "python",
   "name": "python3"
  },
  "language_info": {
   "codemirror_mode": {
    "name": "ipython",
    "version": 3
   },
   "file_extension": ".py",
   "mimetype": "text/x-python",
   "name": "python",
   "nbconvert_exporter": "python",
   "pygments_lexer": "ipython3",
   "version": "3.10.4"
  }
 },
 "nbformat": 4,
 "nbformat_minor": 4
}
